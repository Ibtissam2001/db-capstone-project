{
 "cells": [
  {
   "cell_type": "code",
   "execution_count": 1,
   "id": "8f6c0279-fec1-4075-89cb-99d1f991ae41",
   "metadata": {},
   "outputs": [
    {
     "name": "stdout",
     "output_type": "stream",
     "text": [
      "Requirement already satisfied: mysql-connector-python in c:\\users\\pc\\appdata\\local\\programs\\python\\python312\\lib\\site-packages (9.0.0)\n"
     ]
    }
   ],
   "source": [
    "!pip install mysql-connector-python"
   ]
  },
  {
   "cell_type": "code",
   "execution_count": 2,
   "id": "dd20c9ac-5216-48a1-8ad1-828b514f4f98",
   "metadata": {},
   "outputs": [],
   "source": [
    "import mysql.connector as connector"
   ]
  },
  {
   "cell_type": "code",
   "execution_count": 3,
   "id": "953409b9-b4dc-4b6e-9687-98ef06542405",
   "metadata": {},
   "outputs": [],
   "source": [
    "connection = connector.connect(host =\"127.0.0.1\", user= \"root\", password = \"safiya2030\", db = \"mydb\")"
   ]
  },
  {
   "cell_type": "code",
   "execution_count": 4,
   "id": "6ff20fdd-6e28-4128-8a2d-80730b33c5c0",
   "metadata": {},
   "outputs": [],
   "source": [
    "cursor = connection.cursor()"
   ]
  },
  {
   "cell_type": "code",
   "execution_count": 6,
   "id": "3d39723a-b80b-4141-be2d-c77528239fb5",
   "metadata": {},
   "outputs": [],
   "source": [
    "show_tables_query = \"SHOW TABLES;\""
   ]
  },
  {
   "cell_type": "code",
   "execution_count": 7,
   "id": "b5684e34-4163-4e54-8386-3ab3bacfecbe",
   "metadata": {},
   "outputs": [],
   "source": [
    "cursor.execute(show_tables_query)"
   ]
  },
  {
   "cell_type": "code",
   "execution_count": 8,
   "id": "c1062b6b-7c49-444c-a450-b93c4ad6cace",
   "metadata": {},
   "outputs": [],
   "source": [
    "results = cursor.fetchall()"
   ]
  },
  {
   "cell_type": "code",
   "execution_count": 9,
   "id": "c7719606-2877-48d7-9cee-c062ab888683",
   "metadata": {},
   "outputs": [
    {
     "name": "stdout",
     "output_type": "stream",
     "text": [
      "('bookings',)\n",
      "('customer_details',)\n",
      "('menu',)\n",
      "('menuitems',)\n",
      "('order_delivery_status',)\n",
      "('orders',)\n",
      "('ordersview',)\n"
     ]
    }
   ],
   "source": [
    "for x in results:\n",
    "    print(x)"
   ]
  },
  {
   "cell_type": "code",
   "execution_count": 10,
   "id": "e5fed2b7-5275-49aa-af79-fb5ff22966b9",
   "metadata": {},
   "outputs": [],
   "source": [
    "join_query = \"SELECT customer_details.ContactNumber, customer_details.FullName, orders.total_cost FROM customer_details LEFT JOIN bookings ON customer_details.customerid = bookings.customerid LEFT JOIN orders ON bookings.Bookingid = orders.Bookingid WHERE total_cost > 60;\"\n"
   ]
  },
  {
   "cell_type": "code",
   "execution_count": 11,
   "id": "83fab4d4-2dbb-4f93-a83a-f6955b1c2344",
   "metadata": {},
   "outputs": [],
   "source": [
    "cursor.execute(join_query)"
   ]
  },
  {
   "cell_type": "code",
   "execution_count": 12,
   "id": "60a01bd1-89e3-4b53-9ea3-0092ae9e5aaa",
   "metadata": {},
   "outputs": [],
   "source": [
    "results = cursor.fetchall()"
   ]
  },
  {
   "cell_type": "code",
   "execution_count": 16,
   "id": "5c257ef2-b5ac-4c5f-a755-1b2198761f5e",
   "metadata": {},
   "outputs": [
    {
     "name": "stdout",
     "output_type": "stream",
     "text": [
      "('ContactNumber', 'FullName', 'total_cost')\n"
     ]
    }
   ],
   "source": [
    "print(cursor.column_names)"
   ]
  },
  {
   "cell_type": "code",
   "execution_count": 18,
   "id": "dd8afce1-16ab-4697-bf67-ab08e6949f8b",
   "metadata": {},
   "outputs": [],
   "source": [
    "for x in results:\n",
    "    print (x)"
   ]
  },
  {
   "cell_type": "code",
   "execution_count": null,
   "id": "7d2c4ef7-50dd-4d56-87d1-72aa7e6f1298",
   "metadata": {},
   "outputs": [],
   "source": []
  }
 ],
 "metadata": {
  "kernelspec": {
   "display_name": "Python 3 (ipykernel)",
   "language": "python",
   "name": "python3"
  },
  "language_info": {
   "codemirror_mode": {
    "name": "ipython",
    "version": 3
   },
   "file_extension": ".py",
   "mimetype": "text/x-python",
   "name": "python",
   "nbconvert_exporter": "python",
   "pygments_lexer": "ipython3",
   "version": "3.12.5"
  }
 },
 "nbformat": 4,
 "nbformat_minor": 5
}
